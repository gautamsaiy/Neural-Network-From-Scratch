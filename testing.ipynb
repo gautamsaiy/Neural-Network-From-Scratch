{
 "cells": [
  {
   "cell_type": "code",
   "execution_count": 1,
   "metadata": {},
   "outputs": [],
   "source": [
    "from parameter import Parameter as P\n",
    "import numpy as np\n",
    "from layers import *\n",
    "from optimizers import *\n",
    "from nets import *\n",
    "from dataloader import *"
   ]
  },
  {
   "cell_type": "code",
   "execution_count": 2,
   "metadata": {},
   "outputs": [],
   "source": [
    "class net(NeuralNet):\n",
    "    def __init__(self):\n",
    "        super().__init__()\n",
    "        self.d1, self.b1, self.r1 = Dense(1, 10), Bias(10), ReLU()\n",
    "        self.d2, self.b2, self.r2 = Dense(10, 10), Bias(10), ReLU()\n",
    "        self.d3, self.b3 = Dense(10, 1), Bias(1)\n",
    "    \n",
    "    def forward(self, x):\n",
    "        x = self.r1(self.b1(self.d1(x)))\n",
    "        x = self.r2(self.b2(self.d2(x)))\n",
    "        x = self.b3(self.d3(x))\n",
    "        return x"
   ]
  },
  {
   "cell_type": "code",
   "execution_count": 12,
   "metadata": {},
   "outputs": [],
   "source": [
    "n = net()"
   ]
  },
  {
   "cell_type": "code",
   "execution_count": 13,
   "metadata": {},
   "outputs": [],
   "source": [
    "sin_data = MathFunc(np.sin, -2 * np.pi, 2 * np.pi, 1000, 10)"
   ]
  },
  {
   "cell_type": "code",
   "execution_count": 14,
   "metadata": {},
   "outputs": [
    {
     "name": "stdout",
     "output_type": "stream",
     "text": [
      "[[ 0.30872371]\n",
      " [ 1.36097705]\n",
      " [ 0.64993266]\n",
      " [ 0.28386617]\n",
      " [-0.48284945]\n",
      " [ 0.92271539]\n",
      " [-0.39473314]\n",
      " [ 2.47779002]\n",
      " [ 2.93246078]\n",
      " [-0.73718056]]\n"
     ]
    }
   ],
   "source": [
    "optim = Optimizer(n.parameters)\n",
    "\n",
    "i = 0\n",
    "for x, y in sin_data():\n",
    "    optim.zero_grad()\n",
    "    print(n.d1.weights)\n",
    "    y_hat = n(Parameter(x))\n",
    "    loss = rmse(y_hat, y)\n",
    "    loss.backward()\n",
    "    optim.step(.01)\n",
    "    print(i)\n",
    "    i += 1"
   ]
  },
  {
   "cell_type": "code",
   "execution_count": null,
   "metadata": {},
   "outputs": [],
   "source": []
  }
 ],
 "metadata": {
  "interpreter": {
   "hash": "bb43c6ac1ead13383722f99c35aa7369e4cf964bd423a606a980c4ecc2d4d8eb"
  },
  "kernelspec": {
   "display_name": "Python 3.10.4 ('nnscratch')",
   "language": "python",
   "name": "python3"
  },
  "language_info": {
   "codemirror_mode": {
    "name": "ipython",
    "version": 3
   },
   "file_extension": ".py",
   "mimetype": "text/x-python",
   "name": "python",
   "nbconvert_exporter": "python",
   "pygments_lexer": "ipython3",
   "version": "3.10.4"
  },
  "orig_nbformat": 4
 },
 "nbformat": 4,
 "nbformat_minor": 2
}
