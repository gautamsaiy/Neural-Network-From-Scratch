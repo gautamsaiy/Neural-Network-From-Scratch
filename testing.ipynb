{
 "cells": [
  {
   "cell_type": "code",
   "execution_count": 1,
   "metadata": {},
   "outputs": [],
   "source": [
    "import numpy as np\n",
    "from utils import *\n",
    "import threading\n",
    "from layers import *"
   ]
  },
  {
   "cell_type": "code",
   "execution_count": 2,
   "metadata": {},
   "outputs": [
    {
     "data": {
      "text/plain": [
       "array([[1.04152355, 2.35022003, 1.99692068, 1.50208564, 1.51342785,\n",
       "        1.8124456 , 0.95115583, 1.95116723, 1.44766267, 1.9731358 ],\n",
       "       [2.18348435, 3.86644713, 2.90323025, 2.41167898, 2.53959051,\n",
       "        2.680982  , 2.23124675, 1.89163222, 2.59366714, 2.46884328],\n",
       "       [1.21178704, 2.44030819, 1.72736745, 1.53489592, 1.36824531,\n",
       "        1.8869582 , 1.35545597, 1.48247219, 2.04708566, 1.71627283]])"
      ]
     },
     "execution_count": 2,
     "metadata": {},
     "output_type": "execute_result"
    }
   ],
   "source": [
    "inS, outS = 5, 10\n",
    "input = np.random.random((3, inS))\n",
    "weights = np.random.random((outS, inS))\n",
    "bias = np.random.random(outS)\n",
    "input @ weights.T + bias"
   ]
  },
  {
   "cell_type": "code",
   "execution_count": 3,
   "metadata": {},
   "outputs": [
    {
     "data": {
      "text/plain": [
       "array([[0.58821212, 1.26287698, 1.21011795, 2.1548857 , 0.76514086,\n",
       "        1.24637715, 1.99773818, 1.41556856, 1.15161611, 1.87160363],\n",
       "       [1.34146791, 2.0859821 , 1.53572981, 4.0071693 , 0.9819903 ,\n",
       "        3.13693442, 2.52128821, 2.68699963, 2.85644504, 2.80897345],\n",
       "       [1.0174208 , 1.00370964, 0.6994719 , 2.58034755, 0.51476239,\n",
       "        2.0203061 , 1.90891747, 1.73683388, 1.68068666, 2.23138663]])"
      ]
     },
     "execution_count": 3,
     "metadata": {},
     "output_type": "execute_result"
    }
   ],
   "source": [
    "randDense = Dense(inS, outS)\n",
    "randDense(input)"
   ]
  },
  {
   "cell_type": "code",
   "execution_count": 4,
   "metadata": {},
   "outputs": [
    {
     "data": {
      "text/plain": [
       "array([[1.04152355, 2.35022003, 1.99692068, 1.50208564, 1.51342785,\n",
       "        1.8124456 , 0.95115583, 1.95116723, 1.44766267, 1.9731358 ],\n",
       "       [2.18348435, 3.86644713, 2.90323025, 2.41167898, 2.53959051,\n",
       "        2.680982  , 2.23124675, 1.89163222, 2.59366714, 2.46884328],\n",
       "       [1.21178704, 2.44030819, 1.72736745, 1.53489592, 1.36824531,\n",
       "        1.8869582 , 1.35545597, 1.48247219, 2.04708566, 1.71627283]])"
      ]
     },
     "execution_count": 4,
     "metadata": {},
     "output_type": "execute_result"
    }
   ],
   "source": [
    "presetDense = Dense(inS, outS, bias=True, presets={'weights': weights, 'bias': bias})\n",
    "presetDense(input)"
   ]
  },
  {
   "cell_type": "code",
   "execution_count": null,
   "metadata": {},
   "outputs": [],
   "source": []
  }
 ],
 "metadata": {
  "interpreter": {
   "hash": "bb43c6ac1ead13383722f99c35aa7369e4cf964bd423a606a980c4ecc2d4d8eb"
  },
  "kernelspec": {
   "display_name": "Python 3.10.4 ('nnscratch')",
   "language": "python",
   "name": "python3"
  },
  "language_info": {
   "codemirror_mode": {
    "name": "ipython",
    "version": 3
   },
   "file_extension": ".py",
   "mimetype": "text/x-python",
   "name": "python",
   "nbconvert_exporter": "python",
   "pygments_lexer": "ipython3",
   "version": "3.10.4"
  },
  "orig_nbformat": 4
 },
 "nbformat": 4,
 "nbformat_minor": 2
}
