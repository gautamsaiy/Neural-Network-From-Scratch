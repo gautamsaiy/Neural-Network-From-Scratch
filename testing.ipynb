{
 "cells": [
  {
   "cell_type": "code",
   "execution_count": 1,
   "metadata": {},
   "outputs": [],
   "source": [
    "import numpy as np\n",
    "from utils import *\n",
    "import threading\n",
    "from layers import *\n",
    "from nets import *"
   ]
  },
  {
   "cell_type": "code",
   "execution_count": 2,
   "metadata": {},
   "outputs": [],
   "source": [
    "nn = Sequential()\n",
    "nn.addLayer(Dense(2, 4))\n",
    "nn.addLayer(Dense(4, 8))\n",
    "nn.addLayer(Dense(8, 4))"
   ]
  },
  {
   "cell_type": "code",
   "execution_count": 3,
   "metadata": {},
   "outputs": [
    {
     "data": {
      "text/plain": [
       "\"Sequential(Architecture: ['Dense(in=2, out=4, bias=True)', 'Dense(in=4, out=8, bias=True)', 'Dense(in=8, out=4, bias=True)'], Input Size: 2, Output Size: 4)\""
      ]
     },
     "execution_count": 3,
     "metadata": {},
     "output_type": "execute_result"
    }
   ],
   "source": [
    "nn.description()"
   ]
  },
  {
   "cell_type": "code",
   "execution_count": 10,
   "metadata": {},
   "outputs": [
    {
     "data": {
      "text/plain": [
       "array([[0.13860441, 0.69213492],\n",
       "       [0.39297057, 0.67932081],\n",
       "       [0.60608595, 0.36560844],\n",
       "       [0.29443934, 0.70052356],\n",
       "       [0.17488439, 0.82864767],\n",
       "       [0.61295278, 0.94776874],\n",
       "       [0.26766621, 0.06868753],\n",
       "       [0.10480547, 0.30435347],\n",
       "       [0.01796592, 0.14773648],\n",
       "       [0.15663502, 0.81237437]])"
      ]
     },
     "execution_count": 10,
     "metadata": {},
     "output_type": "execute_result"
    }
   ],
   "source": [
    "input = np.random.random((10, 2))\n",
    "input"
   ]
  },
  {
   "cell_type": "code",
   "execution_count": 11,
   "metadata": {},
   "outputs": [
    {
     "data": {
      "text/plain": [
       "array([[0.        , 0.12067079, 0.        , 0.        ],\n",
       "       [0.        , 0.1203742 , 0.        , 0.        ],\n",
       "       [0.        , 0.10451541, 0.        , 0.        ],\n",
       "       [0.        , 0.12041701, 0.        , 0.        ],\n",
       "       [0.        , 0.11509432, 0.        , 0.        ],\n",
       "       [0.        , 0.10511984, 0.        , 0.        ],\n",
       "       [0.        , 0.08502342, 0.        , 0.        ],\n",
       "       [0.        , 0.10342008, 0.        , 0.        ],\n",
       "       [0.        , 0.09251702, 0.        , 0.        ],\n",
       "       [0.        , 0.11667997, 0.        , 0.        ]])"
      ]
     },
     "execution_count": 11,
     "metadata": {},
     "output_type": "execute_result"
    }
   ],
   "source": [
    "nn.forward(input)"
   ]
  },
  {
   "cell_type": "code",
   "execution_count": null,
   "metadata": {},
   "outputs": [],
   "source": []
  }
 ],
 "metadata": {
  "interpreter": {
   "hash": "bb43c6ac1ead13383722f99c35aa7369e4cf964bd423a606a980c4ecc2d4d8eb"
  },
  "kernelspec": {
   "display_name": "Python 3.10.4 ('nnscratch')",
   "language": "python",
   "name": "python3"
  },
  "language_info": {
   "codemirror_mode": {
    "name": "ipython",
    "version": 3
   },
   "file_extension": ".py",
   "mimetype": "text/x-python",
   "name": "python",
   "nbconvert_exporter": "python",
   "pygments_lexer": "ipython3",
   "version": "3.10.4"
  },
  "orig_nbformat": 4
 },
 "nbformat": 4,
 "nbformat_minor": 2
}
